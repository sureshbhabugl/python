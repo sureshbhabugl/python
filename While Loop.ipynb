{
 "cells": [
  {
   "cell_type": "markdown",
   "metadata": {},
   "source": [
    "# Syntax\n",
    "\n",
    "    while some_expr:\n",
    "        #do something\n",
    "    else:\n",
    "        #do something else"
   ]
  },
  {
   "cell_type": "code",
   "execution_count": 3,
   "metadata": {},
   "outputs": [
    {
     "name": "stdout",
     "output_type": "stream",
     "text": [
      "x value is 0\n",
      "x value is 1\n",
      "x value is 2\n",
      "x value is 3\n",
      "x value is 4\n",
      "x value is 5\n",
      "x value is 6\n",
      "x value is 7\n",
      "x value is 8\n",
      "x value is 9\n",
      "x value is 10\n",
      "x value is 11\n",
      "x value is 12\n",
      "x value is 13\n",
      "x value is 14\n"
     ]
    }
   ],
   "source": [
    "x=0\n",
    "while x<15:\n",
    "    print(f'x value is {x}')\n",
    "    x+=1"
   ]
  },
  {
   "cell_type": "code",
   "execution_count": 4,
   "metadata": {},
   "outputs": [
    {
     "name": "stdout",
     "output_type": "stream",
     "text": [
      "x value is 0\n",
      "x value is 1\n",
      "x value is 2\n",
      "x value is 3\n",
      "x value is 4\n",
      "x value is 5\n",
      "x value is 6\n",
      "x value is 7\n",
      "x value is 8\n",
      "x value is 9\n",
      "x value is 10\n",
      "x value is 11\n",
      "x value is 12\n",
      "x value is 13\n",
      "x value is 14\n",
      "X is not less than 15\n"
     ]
    }
   ],
   "source": [
    "x=0\n",
    "while x<15:\n",
    "    print(f'x value is {x}')\n",
    "    x+=1\n",
    "else:\n",
    "    print(\"X is not less than 15\")\n",
    "    "
   ]
  },
  {
   "cell_type": "markdown",
   "metadata": {},
   "source": [
    "# break, continue, pass\n"
   ]
  },
  {
   "cell_type": "markdown",
   "metadata": {},
   "source": [
    "### break: Breaks out of the current closest enclosing loop.\n",
    "### continue: Goes to the top of the closest enclosing loop.\n",
    "### pass: does nothing at all."
   ]
  },
  {
   "cell_type": "code",
   "execution_count": 5,
   "metadata": {},
   "outputs": [
    {
     "ename": "SyntaxError",
     "evalue": "unexpected EOF while parsing (<ipython-input-5-6c142c7e1897>, line 4)",
     "output_type": "error",
     "traceback": [
      "\u001b[0;36m  File \u001b[0;32m\"<ipython-input-5-6c142c7e1897>\"\u001b[0;36m, line \u001b[0;32m4\u001b[0m\n\u001b[0;31m    # comment\u001b[0m\n\u001b[0m             ^\u001b[0m\n\u001b[0;31mSyntaxError\u001b[0m\u001b[0;31m:\u001b[0m unexpected EOF while parsing\n"
     ]
    }
   ],
   "source": [
    "x = [1,2,3,4,5,6]\n",
    "\n",
    "for item in x:\n",
    "    # comment"
   ]
  },
  {
   "cell_type": "code",
   "execution_count": 7,
   "metadata": {},
   "outputs": [
    {
     "name": "stdout",
     "output_type": "stream",
     "text": [
      "End of script\n"
     ]
    }
   ],
   "source": [
    "x = [1,2,3,4,5,6]\n",
    "\n",
    "for item in x:\n",
    "    # comment\n",
    "    pass #place holder to avoid syntax error\n",
    "print('End of script')"
   ]
  },
  {
   "cell_type": "markdown",
   "metadata": {},
   "source": [
    "# Continue"
   ]
  },
  {
   "cell_type": "code",
   "execution_count": 8,
   "metadata": {},
   "outputs": [],
   "source": [
    "mystring = 'Sammy'"
   ]
  },
  {
   "cell_type": "code",
   "execution_count": 9,
   "metadata": {},
   "outputs": [
    {
     "name": "stdout",
     "output_type": "stream",
     "text": [
      "S\n",
      "a\n",
      "m\n",
      "m\n",
      "y\n"
     ]
    }
   ],
   "source": [
    "for letter in mystring:\n",
    "    print(letter)"
   ]
  },
  {
   "cell_type": "code",
   "execution_count": 11,
   "metadata": {},
   "outputs": [
    {
     "name": "stdout",
     "output_type": "stream",
     "text": [
      "S\n",
      "m\n",
      "m\n",
      "y\n"
     ]
    }
   ],
   "source": [
    "for letter in mystring:\n",
    "    if letter == 'a':\n",
    "        continue\n",
    "    print(letter)    "
   ]
  },
  {
   "cell_type": "markdown",
   "metadata": {},
   "source": [
    "# Break"
   ]
  },
  {
   "cell_type": "code",
   "execution_count": 12,
   "metadata": {},
   "outputs": [
    {
     "name": "stdout",
     "output_type": "stream",
     "text": [
      "S\n"
     ]
    }
   ],
   "source": [
    "for letter in mystring:\n",
    "    if letter == 'a':\n",
    "        break\n",
    "    print(letter)    "
   ]
  },
  {
   "cell_type": "code",
   "execution_count": 15,
   "metadata": {},
   "outputs": [
    {
     "name": "stdout",
     "output_type": "stream",
     "text": [
      "5\n",
      "6\n"
     ]
    }
   ],
   "source": [
    "x = 5\n",
    "\n",
    "while x < 15:\n",
    "    print(x)\n",
    "    x=x+1\n",
    "    if x == 7:\n",
    "        break"
   ]
  },
  {
   "cell_type": "code",
   "execution_count": null,
   "metadata": {},
   "outputs": [],
   "source": []
  }
 ],
 "metadata": {
  "kernelspec": {
   "display_name": "Python 3",
   "language": "python",
   "name": "python3"
  },
  "language_info": {
   "codemirror_mode": {
    "name": "ipython",
    "version": 3
   },
   "file_extension": ".py",
   "mimetype": "text/x-python",
   "name": "python",
   "nbconvert_exporter": "python",
   "pygments_lexer": "ipython3",
   "version": "3.7.6"
  }
 },
 "nbformat": 4,
 "nbformat_minor": 4
}
